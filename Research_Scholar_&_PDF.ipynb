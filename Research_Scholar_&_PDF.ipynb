{
  "nbformat": 4,
  "nbformat_minor": 0,
  "metadata": {
    "colab": {
      "name": "Research - Scholar & PDF",
      "provenance": []
    },
    "kernelspec": {
      "name": "python3",
      "display_name": "Python 3"
    }
  },
  "cells": [
    {
      "cell_type": "code",
      "metadata": {
        "id": "oPot8aWcsfei",
        "colab": {
          "base_uri": "https://localhost:8080/"
        },
        "outputId": "74637bc2-39f7-4cd6-f52e-d189346c670c"
      },
      "source": [
        "!git clone https://github.com/WittmannF/sort-google-scholar.git"
      ],
      "execution_count": null,
      "outputs": [
        {
          "output_type": "stream",
          "text": [
            "fatal: destination path 'sort-google-scholar' already exists and is not an empty directory.\n"
          ],
          "name": "stdout"
        }
      ]
    },
    {
      "cell_type": "code",
      "metadata": {
        "colab": {
          "base_uri": "https://localhost:8080/"
        },
        "id": "xda_Wk-NJNw-",
        "outputId": "bed35dee-84a2-4bc7-facd-9497eb96e1fb"
      },
      "source": [
        "!wget https://chromedriver.storage.googleapis.com/2.42/chromedriver_mac64.zip  && unzip chromedriver_mac64.zip"
      ],
      "execution_count": null,
      "outputs": [
        {
          "output_type": "stream",
          "text": [
            "--2021-03-17 00:23:08--  https://chromedriver.storage.googleapis.com/2.42/chromedriver_mac64.zip\n",
            "Resolving chromedriver.storage.googleapis.com (chromedriver.storage.googleapis.com)... 173.194.69.128, 2a00:1450:4013:c04::80\n",
            "Connecting to chromedriver.storage.googleapis.com (chromedriver.storage.googleapis.com)|173.194.69.128|:443... connected.\n",
            "HTTP request sent, awaiting response... 200 OK\n",
            "Length: 6025563 (5.7M) [application/zip]\n",
            "Saving to: ‘chromedriver_mac64.zip.1’\n",
            "\n",
            "\rchromedriver_mac64.   0%[                    ]       0  --.-KB/s               \rchromedriver_mac64. 100%[===================>]   5.75M  --.-KB/s    in 0.04s   \n",
            "\n",
            "2021-03-17 00:23:08 (134 MB/s) - ‘chromedriver_mac64.zip.1’ saved [6025563/6025563]\n",
            "\n",
            "Archive:  chromedriver_mac64.zip\n",
            "replace chromedriver? [y]es, [n]o, [A]ll, [N]one, [r]ename: "
          ],
          "name": "stdout"
        }
      ]
    },
    {
      "cell_type": "code",
      "metadata": {
        "id": "pTd7zKe_cERR"
      },
      "source": [
        "!pip install selenium"
      ],
      "execution_count": null,
      "outputs": []
    },
    {
      "cell_type": "code",
      "metadata": {
        "id": "lYSUD5JJEXLn"
      },
      "source": [
        "! pip install chromedriver-py\n"
      ],
      "execution_count": null,
      "outputs": []
    },
    {
      "cell_type": "code",
      "metadata": {
        "id": "dohZcNUmrost"
      },
      "source": [
        "# Change 'deep learning' with the keyword that you would like to check\n",
        "chromedriver_path= 'chromedriver'\n",
        "!python /content/sort-google-scholar/sortgs.py --kw \"social movement theory\" --sortby \"cit/year\""
      ],
      "execution_count": null,
      "outputs": []
    },
    {
      "cell_type": "markdown",
      "metadata": {
        "id": "s_nuxpy_s_9c"
      },
      "source": [
        "> _**NOTE:** It is normal to get some warnings, for example year not found or author not found. However, if you get the robot checking warning, then it might not work anymore in the IP that you have on Google Colab. You can try going in 'Runtime' and 'Reset all runtimes' to get a new IP, but it is not garanteed that it will work. If the problem persists, then you will have to run locally using selenium and solve the captchas manually. Make sure to avoid running this code too often to avoid the robot checking problem._\n",
        "\n",
        "Next, you will see that a csv file with the name of the keyword was created (which is `deep_learning.csv` in my case). "
      ]
    },
    {
      "cell_type": "code",
      "metadata": {
        "id": "94792EoBrrBU"
      },
      "source": [
        "ls"
      ],
      "execution_count": null,
      "outputs": []
    },
    {
      "cell_type": "markdown",
      "metadata": {
        "id": "QQIb9oYou9GM"
      },
      "source": [
        "Let's import this file to visualize some results (make sure to change `deep_learning.csv` to the file name that was created in your case):"
      ]
    },
    {
      "cell_type": "code",
      "metadata": {
        "id": "NVoHI4zTr5pB"
      },
      "source": [
        "import pandas as pd\n",
        "df = pd.read_csv('social_movement_theory.csv') # OBS: Update the file name"
      ],
      "execution_count": null,
      "outputs": []
    },
    {
      "cell_type": "code",
      "metadata": {
        "id": "S1NzeUq0sOu-"
      },
      "source": [
        "df.head(10)"
      ],
      "execution_count": null,
      "outputs": []
    },
    {
      "cell_type": "markdown",
      "metadata": {
        "id": "-xx5GEHuybPd"
      },
      "source": [
        "Finally, let's download the CSV results (make sure to update the CSV name here as well):"
      ]
    },
    {
      "cell_type": "code",
      "metadata": {
        "id": "Svc1GCM2yaLP"
      },
      "source": [
        "from google.colab import files\n",
        "files.download('social_movement_theory.csv') # Update the file name here"
      ],
      "execution_count": null,
      "outputs": []
    },
    {
      "cell_type": "markdown",
      "metadata": {
        "id": "97UQ1UkVJYBi"
      },
      "source": [
        "After selecting top chosen articles, pull the text from the PDF files using https://www.pdf2go.com/pdf-to-text and input text into BART summarizer."
      ]
    },
    {
      "cell_type": "code",
      "metadata": {
        "id": "31AcrglIvBjM"
      },
      "source": [
        "!git clone https://github.com/huggingface/transformers \\\n",
        "&& cd transformers \\"
      ],
      "execution_count": null,
      "outputs": []
    },
    {
      "cell_type": "code",
      "metadata": {
        "id": "-DcmOk-0UPvv"
      },
      "source": [
        "!pip install -q ./transformers"
      ],
      "execution_count": null,
      "outputs": []
    },
    {
      "cell_type": "code",
      "metadata": {
        "id": "yCCdKowrpsms"
      },
      "source": [
        "import torch\n",
        "import transformers\n",
        "from transformers import BartTokenizer, BartForConditionalGeneration"
      ],
      "execution_count": null,
      "outputs": []
    },
    {
      "cell_type": "code",
      "metadata": {
        "id": "OSWwtcZvo2jj"
      },
      "source": [
        "tokenizer = BartTokenizer.from_pretrained('facebook/bart-large-cnn')\n",
        "model = BartForConditionalGeneration.from_pretrained('facebook/bart-large-cnn')"
      ],
      "execution_count": null,
      "outputs": []
    },
    {
      "cell_type": "code",
      "metadata": {
        "id": "ONkcYLnfvQLE"
      },
      "source": [
        "#torch_device = 'cuda' if torch.cuda.is_available() else 'cpu '# failing when device is gpu\n",
        "torch_device = 'cpu'"
      ],
      "execution_count": null,
      "outputs": []
    },
    {
      "cell_type": "code",
      "metadata": {
        "id": "3Oc-U7cIDnnP"
      },
      "source": [
        "import google.colab.output\n",
        "\n",
        "def bart_summarize(text, num_beams, length_penalty, max_length, min_length, no_repeat_ngram_size):\n",
        "  \n",
        "  text = text.replace('\\n','')\n",
        "  text_input_ids = tokenizer.batch_encode_plus([text], return_tensors='pt', max_length=1024)['input_ids'].to(torch_device)\n",
        "  summary_ids = model.generate(text_input_ids, num_beams=int(num_beams), length_penalty=float(length_penalty), max_length=int(max_length), min_length=int(min_length), no_repeat_ngram_size=int(no_repeat_ngram_size))           \n",
        "  summary_txt = tokenizer.decode(summary_ids.squeeze(), skip_special_tokens=True)\n",
        "  return summary_txt\n",
        "\n",
        "#register callback for Javascript\n",
        "google.colab.output.register_callback('bart_summarize', bart_summarize)"
      ],
      "execution_count": null,
      "outputs": []
    },
    {
      "cell_type": "code",
      "metadata": {
        "id": "CdyRipC0o8vR"
      },
      "source": [
        "from IPython.display import HTML\n",
        "\n",
        "#spinner from https://codepen.io/vovchisko/pen/vROoYQ\n",
        "spinner_css = \"\"\"\n",
        "<style>\n",
        "@keyframes c-inline-spinner-kf {\n",
        "  0% {\n",
        "    transform: rotate(0deg);\n",
        "  }\n",
        "  100% {\n",
        "    transform: rotate(360deg);\n",
        "  }\n",
        "}\n",
        "\n",
        ".c-inline-spinner,\n",
        ".c-inline-spinner:before {\n",
        "  display: inline-block;\n",
        "  width: 11px;\n",
        "  height: 11px;\n",
        "  transform-origin: 50%;\n",
        "  border: 2px solid transparent;\n",
        "  border-color: #74a8d0 #74a8d0 transparent transparent;\n",
        "  border-radius: 50%;\n",
        "  content: \"\";\n",
        "  animation: linear c-inline-spinner-kf 300ms infinite;\n",
        "  position: relative;\n",
        "  vertical-align: inherit;\n",
        "  line-height: inherit;\n",
        "}\n",
        ".c-inline-spinner {\n",
        "  top: 3px;\n",
        "  margin: 0 3px;\n",
        "}\n",
        ".c-inline-spinner:before {\n",
        "  border-color: #74a8d0 #74a8d0 transparent transparent;\n",
        "  position: absolute;\n",
        "  left: -2px;\n",
        "  top: -2px;\n",
        "  border-style: solid;\n",
        "}\n",
        "</style>\n",
        "\"\"\"\n",
        "\n",
        "input_form = \"\"\"\n",
        "<link rel=\"stylesheet\" href=\"https://unpkg.com/purecss@1.0.1/build/pure-min.css\" integrity=\"sha384-oAOxQR6DkCoMliIh8yFnu25d7Eq/PHS21PClpwjOTeU2jRSq11vu66rf90/cZr47\" crossorigin=\"anonymous\">\n",
        "\n",
        "<div style=\"background-color:white; border:solid #ccc; width:800px; padding:20px; color: black;\">\n",
        "<p><strong>BART</strong> Seq2Seq model with SoTA summarization performance</p>\n",
        "<textarea id=\"main_textarea\" cols=\"75\" rows=\"20\" placeholder=\"Paste your text here...\" style=\"font-family: 'Liberation Serif', 'DejaVu Serif', Georgia, 'Times New Roman', Times, serif; font-size: 13pt; padding:10px;\"></textarea><br>\n",
        "<div class=\"pure-form pure-form-aligned\">\n",
        "   <div class=\"pure-control-group\">\n",
        "     <label for=\"no_repeat_ngram_size\"><strong>no_repeat_ngram_size:</strong></label>\n",
        "     <input type=\"number\" id=\"no_repeat_ngram_size\" value=\"3\" style=\"background-color: white;\">\n",
        "    </div>\n",
        "    <div class=\"pure-control-group\">\n",
        "      <label for=\"num_beams\"><strong>num_beams:</strong></label>\n",
        "      <input type=\"number\" min=\"0\" max=\"10\" step=\"1\" id=\"num_beams\" value=\"4\" style=\"background-color: white;\">\n",
        "    </div>\n",
        "    <div class=\"pure-control-group\">\n",
        "        <label for=\"length_penalty\"><strong>length_penalty:</strong></label>\n",
        "        <input type=\"number\" min=\"0.0\" max=\"10.0\" step=\"0.1\" id=\"length_penalty\" value=\"2.0\" style=\"background-color: white;\">\n",
        "    </div>\n",
        "    <div class=\"pure-control-group\">\n",
        "        <label for=\"max_length\"><strong>max_length:</strong></label>\n",
        "        <input type=\"number\" id=\"max_length\" value=\"142\" style=\"background-color: white;\">\n",
        "    </div>\n",
        "     <div class=\"pure-control-group\">\n",
        "        <label for=\"min_length\"><strong>min_length:</strong></label>\n",
        "        <input type=\"number\" id=\"min_length\" value=\"56\" style=\"background-color: white;\">\n",
        "    </div>\n",
        "    <p><a target=\"_blank\" href='https://pastebin.com/raw/BMPcUS6v'>Try to summarize this example article</a></p>\n",
        "    <div style=\"width: 300px; display: block; margin-left: auto !important; margin-right: auto !important;\">\n",
        "        <p><button class=\"pure-button pure-button-primary\" style=\"font-size: 125%%;\" onclick=\"summarize()\">Summarize</button>\n",
        "        <span class=\"c-inline-spinner\" style=\"visibility: hidden;\" id=\"spinner\"></span></p>\n",
        "    </div>\n",
        "</div>\n",
        "</div>\n",
        "\"\"\"\n",
        "\n",
        "javascript = \"\"\"\n",
        "<script type=\"text/Javascript\">\n",
        "\n",
        "\n",
        "       function saveTextAsFile(textToWrite, fileNameToSaveAs)\n",
        "    {\n",
        "    \tvar textFileAsBlob = new Blob([textToWrite], {type:'text/plain'}); \n",
        "    \tvar downloadLink = document.createElement(\"a\");\n",
        "    \tdownloadLink.download = fileNameToSaveAs;\n",
        "    \tdownloadLink.innerHTML = \"Download File\";\n",
        "    \tif (window.webkitURL != null)\n",
        "    \t{\n",
        "    \t\t// Chrome allows the link to be clicked\n",
        "    \t\t// without actually adding it to the DOM.\n",
        "    \t\tdownloadLink.href = window.webkitURL.createObjectURL(textFileAsBlob);\n",
        "    \t}\n",
        "    \telse\n",
        "    \t{\n",
        "    \t\t// Firefox requires the link to be added to the DOM\n",
        "    \t\t// before it can be clicked.\n",
        "    \t\tdownloadLink.href = window.URL.createObjectURL(textFileAsBlob);\n",
        "    \t\tdownloadLink.onclick = destroyClickedElement;\n",
        "    \t\tdownloadLink.style.display = \"none\";\n",
        "    \t\tdocument.body.appendChild(downloadLink);\n",
        "    \t}\n",
        "    \n",
        "    \tdownloadLink.click();\n",
        "    }\n",
        "\n",
        "\n",
        "    function summarize(){\n",
        "        \n",
        "        var text = document.getElementById('main_textarea').value;\n",
        "        var no_repeat_ngram_size = document.getElementById('no_repeat_ngram_size').value;\n",
        "        var num_beams = document.getElementById('num_beams').value;\n",
        "        var length_penalty = document.getElementById('length_penalty').value;\n",
        "        var max_length = document.getElementById('max_length').value;\n",
        "        var min_length = document.getElementById('min_length').value;\n",
        "        \n",
        "        var kernel = google.colab.kernel;\n",
        "\n",
        "        var resultPromise = kernel.invokeFunction(\"bart_summarize\", [text,num_beams,length_penalty,max_length,min_length,no_repeat_ngram_size]); // developer, look here\n",
        "        resultPromise.then(\n",
        "            function(result) {\n",
        "              document.getElementById('main_textarea').value = 'da resultado';\n",
        "              document.getElementById('main_textarea').value = result.data[\"text/plain\"];\n",
        "              document.getElementById('spinner').style = \"visibility: hidden;\";\n",
        "              saveTextAsFile(result.data[\"text/plain\"], 'summary.txt')\n",
        "        }).catch(function(error){document.getElementById('main_textarea').value = error;});\n",
        "        document.getElementById('spinner').style = \"visibility: visible;\";\n",
        "    };\n",
        "</script>\n",
        "\"\"\" \n",
        "\n",
        "\n",
        "HTML(spinner_css + input_form + javascript)"
      ],
      "execution_count": null,
      "outputs": []
    }
  ]
}